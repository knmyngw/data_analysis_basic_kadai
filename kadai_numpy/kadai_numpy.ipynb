{
  "nbformat": 4,
  "nbformat_minor": 0,
  "metadata": {
    "colab": {
      "provenance": []
    },
    "kernelspec": {
      "name": "python3",
      "display_name": "Python 3"
    },
    "language_info": {
      "name": "python"
    }
  },
  "cells": [
    {
      "cell_type": "code",
      "source": [
        "import numpy as np"
      ],
      "metadata": {
        "id": "gd_mPEqCiD2Z"
      },
      "execution_count": 15,
      "outputs": []
    },
    {
      "cell_type": "code",
      "execution_count": 18,
      "metadata": {
        "colab": {
          "base_uri": "https://localhost:8080/"
        },
        "id": "5A9Zlvv1dm1L",
        "outputId": "12ccbf9e-e204-4aa6-dfab-de69b45ab251"
      },
      "outputs": [
        {
          "output_type": "stream",
          "name": "stdout",
          "text": [
            "[[ 4  5  6  7]\n",
            " [12 17 22 27]\n",
            " [20 29 38 47]]\n",
            "最大値: 47\n"
          ]
        }
      ],
      "source": [
        "A = np.array([[0,1], [2,3], [4,5]])\n",
        "B = np.array([[0,1,2,3], [4,5,6,7]])\n",
        "\n",
        "C = np.dot(A, B)\n",
        "print(C)\n",
        "\n",
        "x = C.max()\n",
        "print(f'最大値: {x}')"
      ]
    },
    {
      "cell_type": "code",
      "source": [
        "D = np.arange(6).reshape(3,2)\n",
        "E = np.arange(8).reshape(2,4)\n",
        "\n",
        "F = np.dot(D, E)\n",
        "print(F)\n",
        "\n",
        "y = F.max()\n",
        "print(f'最大値: {y}')"
      ],
      "metadata": {
        "colab": {
          "base_uri": "https://localhost:8080/"
        },
        "id": "eOV1E2JEgozt",
        "outputId": "4e25fabd-1971-4649-9eee-be777dfb5d6a"
      },
      "execution_count": 19,
      "outputs": [
        {
          "output_type": "stream",
          "name": "stdout",
          "text": [
            "[[ 4  5  6  7]\n",
            " [12 17 22 27]\n",
            " [20 29 38 47]]\n",
            "最大値: 47\n"
          ]
        }
      ]
    },
    {
      "cell_type": "code",
      "source": [],
      "metadata": {
        "id": "duHIyCR6iGhU"
      },
      "execution_count": null,
      "outputs": []
    }
  ]
}